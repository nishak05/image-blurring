{
  "nbformat": 4,
  "nbformat_minor": 0,
  "metadata": {
    "colab": {
      "provenance": []
    },
    "kernelspec": {
      "name": "python3",
      "display_name": "Python 3"
    },
    "language_info": {
      "name": "python"
    }
  },
  "cells": [
    {
      "cell_type": "code",
      "execution_count": null,
      "metadata": {
        "id": "e7KOkv_MNj-u"
      },
      "outputs": [],
      "source": [
        "import cv2"
      ]
    },
    {
      "cell_type": "code",
      "source": [
        "img=cv2.imread('building.jpg')"
      ],
      "metadata": {
        "id": "-6uTWZC_NlOL"
      },
      "execution_count": null,
      "outputs": []
    },
    {
      "cell_type": "code",
      "source": [
        "k=7\n",
        "bimg=cv2.blur(img, (k,k))\n",
        "\n",
        "g_img=cv2.GaussianBlur(img, (k,k),3)\n",
        "m_img=cv2.medianBlur(img, k)"
      ],
      "metadata": {
        "id": "f4exw9gjNo8l"
      },
      "execution_count": null,
      "outputs": []
    },
    {
      "cell_type": "code",
      "source": [
        "cv2.imshow('blur_img',bimg)\n",
        "cv2.imshow('gaussianblur_img',g_img)\n",
        "cv2.imshow('medianblur_img',m_img)\n",
        "cv2.waitKey(0)"
      ],
      "metadata": {
        "id": "g6kzXXh4NwKc"
      },
      "execution_count": null,
      "outputs": []
    }
  ]
}